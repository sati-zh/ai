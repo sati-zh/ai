{
  "nbformat": 4,
  "nbformat_minor": 0,
  "metadata": {
    "colab": {
      "provenance": []
    },
    "kernelspec": {
      "name": "python3",
      "display_name": "Python 3"
    },
    "language_info": {
      "name": "python"
    }
  },
  "cells": [
    {
      "cell_type": "code",
      "execution_count": 2,
      "metadata": {
        "id": "IoAbN4wd-SJi",
        "outputId": "7161ab54-d904-4333-951f-05d53852520a",
        "colab": {
          "base_uri": "https://localhost:8080/"
        }
      },
      "outputs": [
        {
          "output_type": "stream",
          "name": "stdout",
          "text": [
            "Правильность предсказаний: 1.00\n"
          ]
        },
        {
          "output_type": "stream",
          "name": "stderr",
          "text": [
            "/usr/local/lib/python3.10/dist-packages/sklearn/linear_model/_logistic.py:465: ConvergenceWarning: lbfgs failed to converge (status=1):\n",
            "STOP: TOTAL NO. of ITERATIONS REACHED LIMIT.\n",
            "\n",
            "Increase the number of iterations (max_iter) or scale the data as shown in:\n",
            "    https://scikit-learn.org/stable/modules/preprocessing.html\n",
            "Please also refer to the documentation for alternative solver options:\n",
            "    https://scikit-learn.org/stable/modules/linear_model.html#logistic-regression\n",
            "  n_iter_i = _check_optimize_result(\n"
          ]
        }
      ],
      "source": [
        "import numpy as np\n",
        "from sklearn import datasets\n",
        "from sklearn.model_selection import train_test_split\n",
        "from sklearn.linear_model import LogisticRegression # Замена на логистическую регрессию\n",
        "from sklearn.metrics import accuracy_score\n",
        "\n",
        "data, labels = datasets.load_wine(return_X_y=True)\n",
        "\n",
        "train_size = int(0.8 * len(data))\n",
        "train_data, test_data = data[:train_size], data[train_size:]\n",
        "train_labels, test_labels = labels[:train_size], labels[train_size:]\n",
        "\n",
        "model = LogisticRegression(max_iter=1000)\n",
        "model.fit(train_data, train_labels)\n",
        "\n",
        "predictions = model.predict(test_data)\n",
        "\n",
        "correct_predictions = np.sum(predictions == test_labels)\n",
        "total_predictions = len(test_labels)\n",
        "result = correct_predictions / total_predictions\n",
        "\n",
        "print(f'Правильность предсказаний: {result:.2f}')\n"
      ]
    }
  ]
}