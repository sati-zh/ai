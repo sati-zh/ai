import numpy as np
from sklearn import datasets
from sklearn.model_selection import train_test_split
from sklearn.linear_model import LogisticRegression # Замена на логистическую регрессию
from sklearn.metrics import accuracy_score

data, labels = datasets.load_wine(return_X_y=True)

train_size = int(0.8 * len(data))
train_data, test_data = data[:train_size], data[train_size:]
train_labels, test_labels = labels[:train_size], labels[train_size:]

model = LogisticRegression(max_iter=1000)
model.fit(train_data, train_labels)

predictions = model.predict(test_data)

correct_predictions = np.sum(predictions == test_labels)
total_predictions = len(test_labels)
result = correct_predictions / total_predictions

print(f'Правильность предсказаний: {result:.2f}')
